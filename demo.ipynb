{
  "cells": [
    {
      "cell_type": "markdown",
      "metadata": {},
      "source": [
        "# jstrisk demo\n",
        "Minimal example: run the library on your data and plot correlations."
      ]
    },
    {
      "cell_type": "code",
      "execution_count": null,
      "metadata": {},
      "outputs": [],
      "source": [
        "from jstrisk.analysis import run_analysis\n",
        "import pandas as pd\n",
        "import matplotlib.pyplot as plt\n",
        "\n",
        "summary, merged = run_analysis(\n",
        "    psp_path='path/to/psp',\n",
        "    alcohol_path='path/to/alcohol',\n",
        "    population_path='path/to/population',\n",
        "    jst_area_path='path/to/area',\n",
        "    jst_code_length=7,\n",
        ")\n",
        "summary"
      ]
    },
    {
      "cell_type": "code",
      "execution_count": null,
      "metadata": {},
      "outputs": [],
      "source": [
        "merged.plot.scatter(x='population', y='fires')\n",
        "plt.title('Population vs Fire Events')\n",
        "plt.show()"
      ]
    }
  ],
  "metadata": {
    "kernelspec": {
      "display_name": "Python 3",
      "language": "python",
      "name": "python3"
    },
    "language_info": {
      "name": "python",
      "version": "3.x"
    }
  },
  "nbformat": 4,
  "nbformat_minor": 5
}